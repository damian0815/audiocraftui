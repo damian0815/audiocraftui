{
 "cells": [
  {
   "cell_type": "code",
   "id": "initial_id",
   "metadata": {
    "collapsed": true,
    "ExecuteTime": {
     "end_time": "2024-05-05T15:43:36.526664Z",
     "start_time": "2024-05-05T15:43:18.090452Z"
    }
   },
   "source": [
    "from audiocraft.models import MAGNeT\n",
    "model = MAGNeT.get_pretrained('facebook/magnet-small-10secs')"
   ],
   "outputs": [
    {
     "name": "stderr",
     "output_type": "stream",
     "text": [
      "/Volumes/CrucialX6/2.current/audiocraft/venv/lib/python3.11/site-packages/transformers/utils/generic.py:441: UserWarning: torch.utils._pytree._register_pytree_node is deprecated. Please use torch.utils._pytree.register_pytree_node instead.\n",
      "  _torch_pytree._register_pytree_node(\n",
      "/Volumes/CrucialX6/2.current/audiocraft/venv/lib/python3.11/site-packages/transformers/utils/generic.py:309: UserWarning: torch.utils._pytree._register_pytree_node is deprecated. Please use torch.utils._pytree.register_pytree_node instead.\n",
      "  _torch_pytree._register_pytree_node(\n",
      "/Volumes/CrucialX6/2.current/audiocraft/venv/lib/python3.11/site-packages/transformers/utils/generic.py:309: UserWarning: torch.utils._pytree._register_pytree_node is deprecated. Please use torch.utils._pytree.register_pytree_node instead.\n",
      "  _torch_pytree._register_pytree_node(\n",
      "/Volumes/CrucialX6/2.current/audiocraft/venv/lib/python3.11/site-packages/torch/nn/utils/weight_norm.py:28: UserWarning: torch.nn.utils.weight_norm is deprecated in favor of torch.nn.utils.parametrizations.weight_norm.\n",
      "  warnings.warn(\"torch.nn.utils.weight_norm is deprecated in favor of torch.nn.utils.parametrizations.weight_norm.\")\n"
     ]
    }
   ],
   "execution_count": 1
  },
  {
   "metadata": {
    "ExecuteTime": {
     "end_time": "2024-05-05T15:45:03.961873Z",
     "start_time": "2024-05-05T15:45:03.949203Z"
    }
   },
   "cell_type": "code",
   "source": [
    "import torch\n",
    "def sample_argmax(tokens, conditions, temp=3):\n",
    "    logits = model.lm(tokens, conditions=conditions)\n",
    "    probs = torch.softmax(logits / temp, dim=-1)\n",
    "    sampled_tokens = torch.argmax(logits, dim=-1, keepdim=True)\n",
    "    sampled_probs = torch.gather(probs, 3, sampled_tokens)[..., 0]\n",
    "    return sampled_tokens, sampled_probs\n"
   ],
   "id": "54fa11e9ad130ce8",
   "outputs": [],
   "execution_count": 3
  },
  {
   "metadata": {
    "ExecuteTime": {
     "end_time": "2024-05-05T15:50:27.917374Z",
     "start_time": "2024-05-05T15:50:27.910309Z"
    }
   },
   "cell_type": "code",
   "source": [
    "conditions, _ = model._prepare_tokens_and_attributes(['a reggae song'], None)\n",
    "tokens = (torch.rand((1,4,10), device=model.device) * 1024).long()\n",
    "\n",
    "conditions, tokens"
   ],
   "id": "a71c13707abe7d19",
   "outputs": [
    {
     "data": {
      "text/plain": [
       "([ConditioningAttributes(text={'description': 'a reggae song'}, wav={}, joint_embed={})],\n",
       " tensor([[[ 277,  337, 1016,  593,  810,  871,  809,  168,  341,  440],\n",
       "          [ 991,  641,  791,  854, 1006,  607,  437,  302,  495,  111],\n",
       "          [ 614,  698,  162,  890,   35,    3,  173,   35,  200,  231],\n",
       "          [ 243,  651,  854,  854,  150,  604,  682,  539,  376,  485]]]))"
      ]
     },
     "execution_count": 33,
     "metadata": {},
     "output_type": "execute_result"
    }
   ],
   "execution_count": 33
  },
  {
   "metadata": {
    "ExecuteTime": {
     "end_time": "2024-05-05T15:50:28.242806Z",
     "start_time": "2024-05-05T15:50:27.997964Z"
    }
   },
   "cell_type": "code",
   "source": [
    "sampled_tokens, sampled_probs = sample_argmax(tokens, conditions)\n",
    "sampled_tokens[0][1].t(), sampled_probs[0][1]"
   ],
   "id": "37b2c0f995eaef92",
   "outputs": [
    {
     "data": {
      "text/plain": [
       "(tensor([[ 342, 1697,  156, 1771,  580, 1398, 1888,  522, 1206, 1728]]),\n",
       " tensor([0.0023, 0.0021, 0.0031, 0.0024, 0.0019, 0.0026, 0.0018, 0.0019, 0.0022,\n",
       "         0.0023], grad_fn=<SelectBackward0>))"
      ]
     },
     "execution_count": 34,
     "metadata": {},
     "output_type": "execute_result"
    }
   ],
   "execution_count": 34
  },
  {
   "metadata": {
    "ExecuteTime": {
     "end_time": "2024-05-05T15:50:35.891438Z",
     "start_time": "2024-05-05T15:50:35.663857Z"
    }
   },
   "cell_type": "code",
   "source": [
    "tokens[0][0][2:5] = model.lm.special_token_id\n",
    "sampled_tokens, sampled_probs = sample_argmax(tokens, conditions)\n",
    "sampled_tokens[0][1].t(), sampled_probs[0][1]"
   ],
   "id": "85abaeca542e354a",
   "outputs": [
    {
     "data": {
      "text/plain": [
       "(tensor([[ 342, 1831,  156,  378,  580, 1398, 1731, 1503, 1398, 1728]]),\n",
       " tensor([0.0023, 0.0026, 0.0023, 0.0018, 0.0024, 0.0024, 0.0018, 0.0018, 0.0021,\n",
       "         0.0026], grad_fn=<SelectBackward0>))"
      ]
     },
     "execution_count": 37,
     "metadata": {},
     "output_type": "execute_result"
    }
   ],
   "execution_count": 37
  },
  {
   "metadata": {},
   "cell_type": "code",
   "outputs": [],
   "execution_count": null,
   "source": "",
   "id": "6cb80df6af00f534"
  }
 ],
 "metadata": {
  "kernelspec": {
   "display_name": "Python 3",
   "language": "python",
   "name": "python3"
  },
  "language_info": {
   "codemirror_mode": {
    "name": "ipython",
    "version": 2
   },
   "file_extension": ".py",
   "mimetype": "text/x-python",
   "name": "python",
   "nbconvert_exporter": "python",
   "pygments_lexer": "ipython2",
   "version": "2.7.6"
  }
 },
 "nbformat": 4,
 "nbformat_minor": 5
}
