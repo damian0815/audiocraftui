{
 "cells": [
  {
   "cell_type": "code",
   "id": "initial_id",
   "metadata": {
    "collapsed": true,
    "ExecuteTime": {
     "end_time": "2024-05-05T19:39:44.231627Z",
     "start_time": "2024-05-05T19:39:44.189785Z"
    }
   },
   "source": [
    "max_gen_len = 500\n",
    "span_len = 3\n",
    "mask_p = 0.5\n",
    "import torch\n",
    "\n",
    "num_spans = max_gen_len // span_len\n",
    "num_masked_spans = round(mask_p * num_spans)\n",
    "possible_span_starts: torch.Tensor = (torch.arange(0, num_spans) * 3).long()\n",
    "selected_span_starts_to_mask = possible_span_starts[torch.randperm(possible_span_starts.shape[0])[:num_masked_spans]]\n"
   ],
   "outputs": [],
   "execution_count": 2
  },
  {
   "metadata": {
    "ExecuteTime": {
     "end_time": "2024-05-05T19:39:47.359954Z",
     "start_time": "2024-05-05T19:39:47.354527Z"
    }
   },
   "cell_type": "code",
   "source": "selected_span_starts_to_mask",
   "id": "61984fc26354c39b",
   "outputs": [
    {
     "data": {
      "text/plain": [
       "tensor([282, 165,  39,  63, 423, 435, 444, 108,  69, 120, 477, 327, 132, 306,\n",
       "        303, 234, 201, 468, 483, 159, 210, 372,  54, 330, 426,  48, 228, 471,\n",
       "        258, 369, 339, 138, 144, 357, 195, 450, 162, 114, 441,  18, 153, 459,\n",
       "        237,  60, 318, 360, 267, 240, 294, 465, 390,  57, 249, 192, 123, 405,\n",
       "        174, 207, 279, 147,   0, 222, 429, 408,   3, 189, 255, 447, 150, 246,\n",
       "        141, 432, 345, 348, 396, 105,  87, 285, 177, 399, 411,  45, 414])"
      ]
     },
     "execution_count": 3,
     "metadata": {},
     "output_type": "execute_result"
    }
   ],
   "execution_count": 3
  },
  {
   "metadata": {
    "ExecuteTime": {
     "end_time": "2024-05-05T19:43:09.720242Z",
     "start_time": "2024-05-05T19:43:09.715516Z"
    }
   },
   "cell_type": "code",
   "source": [
    "#mask = self._construct_spans_mask(span_starts = selected_span_starts_to_mask, T=gen_codes.shape[2], device=device)\n",
    "mask = torch.full((num_spans*3+2,), False)\n",
    "mask[selected_span_starts_to_mask] = True\n",
    "mask"
   ],
   "id": "8d9c5c521bb468fe",
   "outputs": [
    {
     "data": {
      "text/plain": [
       "tensor([ True, False, False,  True, False, False, False, False, False, False,\n",
       "        False, False, False, False, False, False, False, False,  True, False,\n",
       "        False, False, False, False, False, False, False, False, False, False,\n",
       "        False, False, False, False, False, False, False, False, False,  True,\n",
       "        False, False, False, False, False,  True, False, False,  True, False,\n",
       "        False, False, False, False,  True, False, False,  True, False, False,\n",
       "         True, False, False,  True, False, False, False, False, False,  True,\n",
       "        False, False, False, False, False, False, False, False, False, False,\n",
       "        False, False, False, False, False, False, False,  True, False, False,\n",
       "        False, False, False, False, False, False, False, False, False, False,\n",
       "        False, False, False, False, False,  True, False, False,  True, False,\n",
       "        False, False, False, False,  True, False, False, False, False, False,\n",
       "         True, False, False,  True, False, False, False, False, False, False,\n",
       "        False, False,  True, False, False, False, False, False,  True, False,\n",
       "        False,  True, False, False,  True, False, False,  True, False, False,\n",
       "         True, False, False,  True, False, False, False, False, False,  True,\n",
       "        False, False,  True, False, False,  True, False, False, False, False,\n",
       "        False, False, False, False,  True, False, False,  True, False, False,\n",
       "        False, False, False, False, False, False, False, False, False,  True,\n",
       "        False, False,  True, False, False,  True, False, False, False, False,\n",
       "        False,  True, False, False, False, False, False,  True, False, False,\n",
       "         True, False, False, False, False, False, False, False, False, False,\n",
       "        False, False,  True, False, False, False, False, False,  True, False,\n",
       "        False, False, False, False,  True, False, False,  True, False, False,\n",
       "         True, False, False, False, False, False,  True, False, False,  True,\n",
       "        False, False, False, False, False,  True, False, False,  True, False,\n",
       "        False, False, False, False, False, False, False,  True, False, False,\n",
       "        False, False, False, False, False, False, False, False, False,  True,\n",
       "        False, False,  True, False, False,  True, False, False, False, False,\n",
       "        False, False, False, False,  True, False, False, False, False, False,\n",
       "        False, False, False,  True, False, False,  True, False, False, False,\n",
       "        False, False, False, False, False, False, False, False,  True, False,\n",
       "        False, False, False, False, False, False, False,  True, False, False,\n",
       "         True, False, False, False, False, False, False, False, False,  True,\n",
       "        False, False, False, False, False,  True, False, False,  True, False,\n",
       "        False, False, False, False, False, False, False,  True, False, False,\n",
       "         True, False, False, False, False, False, False, False, False,  True,\n",
       "        False, False,  True, False, False, False, False, False, False, False,\n",
       "        False, False, False, False, False, False, False, False, False, False,\n",
       "         True, False, False, False, False, False,  True, False, False,  True,\n",
       "        False, False, False, False, False,  True, False, False,  True, False,\n",
       "        False,  True, False, False,  True, False, False, False, False, False,\n",
       "        False, False, False,  True, False, False,  True, False, False,  True,\n",
       "        False, False,  True, False, False,  True, False, False, False, False,\n",
       "        False,  True, False, False,  True, False, False,  True, False, False,\n",
       "         True, False, False, False, False, False, False, False, False,  True,\n",
       "        False, False, False, False, False,  True, False, False,  True, False,\n",
       "        False,  True, False, False, False, False, False,  True, False, False,\n",
       "        False, False, False,  True, False, False, False, False, False, False,\n",
       "        False, False, False, False, False, False, False, False, False, False])"
      ]
     },
     "execution_count": 10,
     "metadata": {},
     "output_type": "execute_result"
    }
   ],
   "execution_count": 10
  },
  {
   "metadata": {
    "ExecuteTime": {
     "end_time": "2024-05-05T19:43:10.760973Z",
     "start_time": "2024-05-05T19:43:10.755789Z"
    }
   },
   "cell_type": "code",
   "source": [
    "gen_codes = torch.stack([torch.arange(max_gen_len), torch.arange(max_gen_len), torch.arange(max_gen_len), torch.arange(max_gen_len)]).unsqueeze(0)\n",
    "stage = 1\n",
    "mask_id = -1\n",
    "gen_codes[:, [stage], :] = torch.where(mask, mask_id, gen_codes[:, stage])\n"
   ],
   "id": "4aada63a72def33c",
   "outputs": [],
   "execution_count": 11
  },
  {
   "metadata": {
    "ExecuteTime": {
     "end_time": "2024-05-05T19:43:56.283395Z",
     "start_time": "2024-05-05T19:43:56.273576Z"
    }
   },
   "cell_type": "code",
   "source": "mask, gen_codes, gen_codes[:, [1], :6]",
   "id": "3f684cb4be64e1ba",
   "outputs": [
    {
     "data": {
      "text/plain": [
       "(tensor([ True, False, False,  True, False, False, False, False, False, False,\n",
       "         False, False, False, False, False, False, False, False,  True, False,\n",
       "         False, False, False, False, False, False, False, False, False, False,\n",
       "         False, False, False, False, False, False, False, False, False,  True,\n",
       "         False, False, False, False, False,  True, False, False,  True, False,\n",
       "         False, False, False, False,  True, False, False,  True, False, False,\n",
       "          True, False, False,  True, False, False, False, False, False,  True,\n",
       "         False, False, False, False, False, False, False, False, False, False,\n",
       "         False, False, False, False, False, False, False,  True, False, False,\n",
       "         False, False, False, False, False, False, False, False, False, False,\n",
       "         False, False, False, False, False,  True, False, False,  True, False,\n",
       "         False, False, False, False,  True, False, False, False, False, False,\n",
       "          True, False, False,  True, False, False, False, False, False, False,\n",
       "         False, False,  True, False, False, False, False, False,  True, False,\n",
       "         False,  True, False, False,  True, False, False,  True, False, False,\n",
       "          True, False, False,  True, False, False, False, False, False,  True,\n",
       "         False, False,  True, False, False,  True, False, False, False, False,\n",
       "         False, False, False, False,  True, False, False,  True, False, False,\n",
       "         False, False, False, False, False, False, False, False, False,  True,\n",
       "         False, False,  True, False, False,  True, False, False, False, False,\n",
       "         False,  True, False, False, False, False, False,  True, False, False,\n",
       "          True, False, False, False, False, False, False, False, False, False,\n",
       "         False, False,  True, False, False, False, False, False,  True, False,\n",
       "         False, False, False, False,  True, False, False,  True, False, False,\n",
       "          True, False, False, False, False, False,  True, False, False,  True,\n",
       "         False, False, False, False, False,  True, False, False,  True, False,\n",
       "         False, False, False, False, False, False, False,  True, False, False,\n",
       "         False, False, False, False, False, False, False, False, False,  True,\n",
       "         False, False,  True, False, False,  True, False, False, False, False,\n",
       "         False, False, False, False,  True, False, False, False, False, False,\n",
       "         False, False, False,  True, False, False,  True, False, False, False,\n",
       "         False, False, False, False, False, False, False, False,  True, False,\n",
       "         False, False, False, False, False, False, False,  True, False, False,\n",
       "          True, False, False, False, False, False, False, False, False,  True,\n",
       "         False, False, False, False, False,  True, False, False,  True, False,\n",
       "         False, False, False, False, False, False, False,  True, False, False,\n",
       "          True, False, False, False, False, False, False, False, False,  True,\n",
       "         False, False,  True, False, False, False, False, False, False, False,\n",
       "         False, False, False, False, False, False, False, False, False, False,\n",
       "          True, False, False, False, False, False,  True, False, False,  True,\n",
       "         False, False, False, False, False,  True, False, False,  True, False,\n",
       "         False,  True, False, False,  True, False, False, False, False, False,\n",
       "         False, False, False,  True, False, False,  True, False, False,  True,\n",
       "         False, False,  True, False, False,  True, False, False, False, False,\n",
       "         False,  True, False, False,  True, False, False,  True, False, False,\n",
       "          True, False, False, False, False, False, False, False, False,  True,\n",
       "         False, False, False, False, False,  True, False, False,  True, False,\n",
       "         False,  True, False, False, False, False, False,  True, False, False,\n",
       "         False, False, False,  True, False, False, False, False, False, False,\n",
       "         False, False, False, False, False, False, False, False, False, False]),\n",
       " tensor([[[  0,   1,   2,  ..., 497, 498, 499],\n",
       "          [ -1,   1,   2,  ..., 497, 498, 499],\n",
       "          [  0,   1,   2,  ..., 497, 498, 499],\n",
       "          [  0,   1,   2,  ..., 497, 498, 499]]]),\n",
       " tensor([[[-1,  1,  2, -1,  4,  5]]]))"
      ]
     },
     "execution_count": 14,
     "metadata": {},
     "output_type": "execute_result"
    }
   ],
   "execution_count": 14
  },
  {
   "metadata": {},
   "cell_type": "code",
   "outputs": [],
   "execution_count": null,
   "source": "",
   "id": "a5357fae9bbf5321"
  }
 ],
 "metadata": {
  "kernelspec": {
   "display_name": "Python 3",
   "language": "python",
   "name": "python3"
  },
  "language_info": {
   "codemirror_mode": {
    "name": "ipython",
    "version": 2
   },
   "file_extension": ".py",
   "mimetype": "text/x-python",
   "name": "python",
   "nbconvert_exporter": "python",
   "pygments_lexer": "ipython2",
   "version": "2.7.6"
  }
 },
 "nbformat": 4,
 "nbformat_minor": 5
}
